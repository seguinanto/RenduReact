{
 "cells": [
  {
   "cell_type": "markdown",
   "metadata": {},
   "source": [
    "<table>\n",
    "<tr>\n",
    "    <td>\n",
    "        <center>\n",
    "            <h1>API Rest et Notebook client Rest</h1>\n",
    "        </center>\n",
    "    </td>\n",
    "    <td width=10%>\n",
    "        Antoine Séguin\n",
    "    </td>\n",
    "</tr>\n",
    "</table>\n",
    "\n",
    "<br/>\n",
    "<div id=\"top\"></div>\n",
    "<br/>\n",
    "&nbsp;&nbsp;&nbsp; 1) <a href=\"#dataframe\">Appel DataFrame</a><br>\n",
    "\n",
    "- Stars by birthyear\n",
    "- Movies by title part\n",
    "- Stats par stars\n",
    "\n",
    "&nbsp;&nbsp;&nbsp; 2) <a href=\"#graph\">Graphiques</a><br>\n",
    "\n",
    "- Repartition par annéée des films et naissances de star\n",
    "- Diagramme barres sur la carrière du top 10 acteurs : 1 graphe nombre, 1 graphe année min/max"
   ]
  },
  {
   "cell_type": "markdown",
   "metadata": {},
   "source": [
    "## Librairies"
   ]
  },
  {
   "cell_type": "code",
   "execution_count": 58,
   "metadata": {},
   "outputs": [],
   "source": [
    "import pandas as pd\n",
    "import requests\n",
    "import numpy as np\n",
    "import matplotlib.pyplot as plt\n",
    "from datetime import datetime, date, time"
   ]
  },
  {
   "cell_type": "markdown",
   "metadata": {},
   "source": [
    "## <a id=\"dataframe\"> 1) Appel DataFrame</a>  "
   ]
  },
  {
   "cell_type": "markdown",
   "metadata": {},
   "source": [
    "#### Stars by birthyear"
   ]
  },
  {
   "cell_type": "code",
   "execution_count": 2,
   "metadata": {
    "scrolled": false
   },
   "outputs": [
    {
     "data": {
      "text/html": [
       "<div>\n",
       "<style scoped>\n",
       "    .dataframe tbody tr th:only-of-type {\n",
       "        vertical-align: middle;\n",
       "    }\n",
       "\n",
       "    .dataframe tbody tr th {\n",
       "        vertical-align: top;\n",
       "    }\n",
       "\n",
       "    .dataframe thead th {\n",
       "        text-align: right;\n",
       "    }\n",
       "</style>\n",
       "<table border=\"1\" class=\"dataframe\">\n",
       "  <thead>\n",
       "    <tr style=\"text-align: right;\">\n",
       "      <th></th>\n",
       "      <th>name</th>\n",
       "      <th>birthdate</th>\n",
       "    </tr>\n",
       "    <tr>\n",
       "      <th>id</th>\n",
       "      <th></th>\n",
       "      <th></th>\n",
       "    </tr>\n",
       "  </thead>\n",
       "  <tbody>\n",
       "    <tr>\n",
       "      <th>73128</th>\n",
       "      <td>A.J. Benza</td>\n",
       "      <td>1962-01-01</td>\n",
       "    </tr>\n",
       "    <tr>\n",
       "      <th>878152</th>\n",
       "      <td>Aida Turturro</td>\n",
       "      <td>1962-01-01</td>\n",
       "    </tr>\n",
       "    <tr>\n",
       "      <th>891514</th>\n",
       "      <td>Alex Veadov</td>\n",
       "      <td>1962-01-01</td>\n",
       "    </tr>\n",
       "    <tr>\n",
       "      <th>447782</th>\n",
       "      <td>Alexa Kenin</td>\n",
       "      <td>1962-01-01</td>\n",
       "    </tr>\n",
       "    <tr>\n",
       "      <th>633457</th>\n",
       "      <td>Amanda Noar</td>\n",
       "      <td>1962-01-01</td>\n",
       "    </tr>\n",
       "    <tr>\n",
       "      <th>...</th>\n",
       "      <td>...</td>\n",
       "      <td>...</td>\n",
       "    </tr>\n",
       "    <tr>\n",
       "      <th>668615</th>\n",
       "      <td>Vinny Pazienza</td>\n",
       "      <td>1962-01-01</td>\n",
       "    </tr>\n",
       "    <tr>\n",
       "      <th>648</th>\n",
       "      <td>Wesley Snipes</td>\n",
       "      <td>1962-01-01</td>\n",
       "    </tr>\n",
       "    <tr>\n",
       "      <th>387826</th>\n",
       "      <td>Wilfried Hochholdinger</td>\n",
       "      <td>1962-01-01</td>\n",
       "    </tr>\n",
       "    <tr>\n",
       "      <th>1269863</th>\n",
       "      <td>Yaroslav Poverlo</td>\n",
       "      <td>1962-01-01</td>\n",
       "    </tr>\n",
       "    <tr>\n",
       "      <th>605676</th>\n",
       "      <td>Yoshiyuki Morishita</td>\n",
       "      <td>1962-01-01</td>\n",
       "    </tr>\n",
       "  </tbody>\n",
       "</table>\n",
       "<p>167 rows × 2 columns</p>\n",
       "</div>"
      ],
      "text/plain": [
       "                           name  birthdate\n",
       "id                                        \n",
       "73128                A.J. Benza 1962-01-01\n",
       "878152            Aida Turturro 1962-01-01\n",
       "891514              Alex Veadov 1962-01-01\n",
       "447782              Alexa Kenin 1962-01-01\n",
       "633457              Amanda Noar 1962-01-01\n",
       "...                         ...        ...\n",
       "668615           Vinny Pazienza 1962-01-01\n",
       "648               Wesley Snipes 1962-01-01\n",
       "387826   Wilfried Hochholdinger 1962-01-01\n",
       "1269863        Yaroslav Poverlo 1962-01-01\n",
       "605676      Yoshiyuki Morishita 1962-01-01\n",
       "\n",
       "[167 rows x 2 columns]"
      ]
     },
     "execution_count": 2,
     "metadata": {},
     "output_type": "execute_result"
    }
   ],
   "source": [
    "year = 1962\n",
    "dfStarsByY=pd.read_json(f'http://localhost:8000/stars/by_birthyear/{year}', convert_dates=['birthdate'])\n",
    "dfStarsByY.set_index('id',inplace=True)\n",
    "dfStarsByY"
   ]
  },
  {
   "cell_type": "markdown",
   "metadata": {},
   "source": [
    "#### Movies by title part"
   ]
  },
  {
   "cell_type": "code",
   "execution_count": 3,
   "metadata": {},
   "outputs": [
    {
     "data": {
      "text/html": [
       "<div>\n",
       "<style scoped>\n",
       "    .dataframe tbody tr th:only-of-type {\n",
       "        vertical-align: middle;\n",
       "    }\n",
       "\n",
       "    .dataframe tbody tr th {\n",
       "        vertical-align: top;\n",
       "    }\n",
       "\n",
       "    .dataframe thead th {\n",
       "        text-align: right;\n",
       "    }\n",
       "</style>\n",
       "<table border=\"1\" class=\"dataframe\">\n",
       "  <thead>\n",
       "    <tr style=\"text-align: right;\">\n",
       "      <th></th>\n",
       "      <th>title</th>\n",
       "      <th>year</th>\n",
       "      <th>duration</th>\n",
       "    </tr>\n",
       "    <tr>\n",
       "      <th>id</th>\n",
       "      <th></th>\n",
       "      <th></th>\n",
       "      <th></th>\n",
       "    </tr>\n",
       "  </thead>\n",
       "  <tbody>\n",
       "    <tr>\n",
       "      <th>8317298</th>\n",
       "      <td>Chanel No. 5: La Star</td>\n",
       "      <td>1990</td>\n",
       "      <td>1.0</td>\n",
       "    </tr>\n",
       "    <tr>\n",
       "      <th>778043</th>\n",
       "      <td>Seeing Stars</td>\n",
       "      <td>1927</td>\n",
       "      <td>NaN</td>\n",
       "    </tr>\n",
       "    <tr>\n",
       "      <th>49793</th>\n",
       "      <td>Star in the Dust</td>\n",
       "      <td>1956</td>\n",
       "      <td>80.0</td>\n",
       "    </tr>\n",
       "    <tr>\n",
       "      <th>76759</th>\n",
       "      <td>Star Wars: Episode IV - A New Hope</td>\n",
       "      <td>1977</td>\n",
       "      <td>121.0</td>\n",
       "    </tr>\n",
       "    <tr>\n",
       "      <th>8933914</th>\n",
       "      <td>Star Wars: Episode IV: A New Hope - Deleted Sc...</td>\n",
       "      <td>2011</td>\n",
       "      <td>8.0</td>\n",
       "    </tr>\n",
       "    <tr>\n",
       "      <th>2527338</th>\n",
       "      <td>Star Wars: Episode IX - The Rise of Skywalker</td>\n",
       "      <td>2019</td>\n",
       "      <td>142.0</td>\n",
       "    </tr>\n",
       "    <tr>\n",
       "      <th>80684</th>\n",
       "      <td>Star Wars: Episode V - The Empire Strikes Back</td>\n",
       "      <td>1980</td>\n",
       "      <td>124.0</td>\n",
       "    </tr>\n",
       "    <tr>\n",
       "      <th>8924990</th>\n",
       "      <td>Star Wars: Episode V - The Empire Strikes Back...</td>\n",
       "      <td>1980</td>\n",
       "      <td>12.0</td>\n",
       "    </tr>\n",
       "    <tr>\n",
       "      <th>86190</th>\n",
       "      <td>Star Wars: Episode VI - Return of the Jedi</td>\n",
       "      <td>1983</td>\n",
       "      <td>131.0</td>\n",
       "    </tr>\n",
       "    <tr>\n",
       "      <th>8925010</th>\n",
       "      <td>Star Wars: Episode VI - Return of the Jedi: De...</td>\n",
       "      <td>1983</td>\n",
       "      <td>9.0</td>\n",
       "    </tr>\n",
       "    <tr>\n",
       "      <th>2488496</th>\n",
       "      <td>Star Wars: Episode VII - The Force Awakens</td>\n",
       "      <td>2015</td>\n",
       "      <td>138.0</td>\n",
       "    </tr>\n",
       "    <tr>\n",
       "      <th>95405</th>\n",
       "      <td>Starry is the Night</td>\n",
       "      <td>1988</td>\n",
       "      <td>94.0</td>\n",
       "    </tr>\n",
       "    <tr>\n",
       "      <th>25830</th>\n",
       "      <td>The Star Packer</td>\n",
       "      <td>1934</td>\n",
       "      <td>53.0</td>\n",
       "    </tr>\n",
       "  </tbody>\n",
       "</table>\n",
       "</div>"
      ],
      "text/plain": [
       "                                                     title  year  duration\n",
       "id                                                                        \n",
       "8317298                              Chanel No. 5: La Star  1990       1.0\n",
       "778043                                        Seeing Stars  1927       NaN\n",
       "49793                                     Star in the Dust  1956      80.0\n",
       "76759                   Star Wars: Episode IV - A New Hope  1977     121.0\n",
       "8933914  Star Wars: Episode IV: A New Hope - Deleted Sc...  2011       8.0\n",
       "2527338      Star Wars: Episode IX - The Rise of Skywalker  2019     142.0\n",
       "80684       Star Wars: Episode V - The Empire Strikes Back  1980     124.0\n",
       "8924990  Star Wars: Episode V - The Empire Strikes Back...  1980      12.0\n",
       "86190           Star Wars: Episode VI - Return of the Jedi  1983     131.0\n",
       "8925010  Star Wars: Episode VI - Return of the Jedi: De...  1983       9.0\n",
       "2488496         Star Wars: Episode VII - The Force Awakens  2015     138.0\n",
       "95405                                  Starry is the Night  1988      94.0\n",
       "25830                                      The Star Packer  1934      53.0"
      ]
     },
     "execution_count": 3,
     "metadata": {},
     "output_type": "execute_result"
    }
   ],
   "source": [
    "title = 'Star'\n",
    "dfMovieByTitle=pd.read_json('http://localhost:8000/movies/by_title_part?t=' + title)\n",
    "dfMovieByTitle.set_index('id',inplace=True)\n",
    "dfMovieByTitle"
   ]
  },
  {
   "cell_type": "markdown",
   "metadata": {},
   "source": [
    "#### Stats par stars"
   ]
  },
  {
   "cell_type": "code",
   "execution_count": 8,
   "metadata": {},
   "outputs": [],
   "source": [
    "response = requests.get('http://localhost:8000/stars/count_by_stars/')\n",
    "data_json = response.json()"
   ]
  },
  {
   "cell_type": "code",
   "execution_count": 9,
   "metadata": {},
   "outputs": [],
   "source": [
    "data_flatten = [ {**director_dict, 'nb_film': nb_film, 'pfilm': pfilm, 'dfilm': dfilm}  \n",
    "         for director_dict, nb_film, pfilm, dfilm in data_json ]"
   ]
  },
  {
   "cell_type": "code",
   "execution_count": 10,
   "metadata": {},
   "outputs": [
    {
     "data": {
      "text/html": [
       "<div>\n",
       "<style scoped>\n",
       "    .dataframe tbody tr th:only-of-type {\n",
       "        vertical-align: middle;\n",
       "    }\n",
       "\n",
       "    .dataframe tbody tr th {\n",
       "        vertical-align: top;\n",
       "    }\n",
       "\n",
       "    .dataframe thead th {\n",
       "        text-align: right;\n",
       "    }\n",
       "</style>\n",
       "<table border=\"1\" class=\"dataframe\">\n",
       "  <thead>\n",
       "    <tr style=\"text-align: right;\">\n",
       "      <th></th>\n",
       "      <th>birthdate</th>\n",
       "      <th>name</th>\n",
       "      <th>nb_film</th>\n",
       "      <th>pfilm</th>\n",
       "      <th>dfilm</th>\n",
       "    </tr>\n",
       "    <tr>\n",
       "      <th>id</th>\n",
       "      <th></th>\n",
       "      <th></th>\n",
       "      <th></th>\n",
       "      <th></th>\n",
       "      <th></th>\n",
       "    </tr>\n",
       "  </thead>\n",
       "  <tbody>\n",
       "    <tr>\n",
       "      <th>78</th>\n",
       "      <td>1907-05-26</td>\n",
       "      <td>John Wayne</td>\n",
       "      <td>172</td>\n",
       "      <td>1926</td>\n",
       "      <td>1976</td>\n",
       "    </tr>\n",
       "    <tr>\n",
       "      <th>1230</th>\n",
       "      <td>1884-03-16</td>\n",
       "      <td>Harrison Ford</td>\n",
       "      <td>86</td>\n",
       "      <td>1915</td>\n",
       "      <td>1932</td>\n",
       "    </tr>\n",
       "    <tr>\n",
       "      <th>230</th>\n",
       "      <td>1946-07-06</td>\n",
       "      <td>Sylvester Stallone</td>\n",
       "      <td>73</td>\n",
       "      <td>1969</td>\n",
       "      <td>2019</td>\n",
       "    </tr>\n",
       "    <tr>\n",
       "      <th>125</th>\n",
       "      <td>1930-08-25</td>\n",
       "      <td>Sean Connery</td>\n",
       "      <td>73</td>\n",
       "      <td>1954</td>\n",
       "      <td>2012</td>\n",
       "    </tr>\n",
       "    <tr>\n",
       "      <th>158</th>\n",
       "      <td>1956-07-09</td>\n",
       "      <td>Tom Hanks</td>\n",
       "      <td>69</td>\n",
       "      <td>1980</td>\n",
       "      <td>2020</td>\n",
       "    </tr>\n",
       "    <tr>\n",
       "      <th>...</th>\n",
       "      <td>...</td>\n",
       "      <td>...</td>\n",
       "      <td>...</td>\n",
       "      <td>...</td>\n",
       "      <td>...</td>\n",
       "    </tr>\n",
       "    <tr>\n",
       "      <th>621</th>\n",
       "      <td>1951-01-01</td>\n",
       "      <td>Kurt Russell</td>\n",
       "      <td>10</td>\n",
       "      <td>1989</td>\n",
       "      <td>2019</td>\n",
       "    </tr>\n",
       "    <tr>\n",
       "      <th>807911</th>\n",
       "      <td>1932-01-01</td>\n",
       "      <td>Dean Smith</td>\n",
       "      <td>10</td>\n",
       "      <td>1959</td>\n",
       "      <td>1986</td>\n",
       "    </tr>\n",
       "    <tr>\n",
       "      <th>604508</th>\n",
       "      <td>1915-01-01</td>\n",
       "      <td>Boyd 'Red' Morgan</td>\n",
       "      <td>10</td>\n",
       "      <td>1960</td>\n",
       "      <td>1971</td>\n",
       "    </tr>\n",
       "    <tr>\n",
       "      <th>609</th>\n",
       "      <td>1959-01-01</td>\n",
       "      <td>Ving Rhames</td>\n",
       "      <td>10</td>\n",
       "      <td>1989</td>\n",
       "      <td>2017</td>\n",
       "    </tr>\n",
       "    <tr>\n",
       "      <th>625555</th>\n",
       "      <td>1927-01-01</td>\n",
       "      <td>Lloyd Nelson</td>\n",
       "      <td>10</td>\n",
       "      <td>1978</td>\n",
       "      <td>1990</td>\n",
       "    </tr>\n",
       "  </tbody>\n",
       "</table>\n",
       "<p>166 rows × 5 columns</p>\n",
       "</div>"
      ],
      "text/plain": [
       "         birthdate                name  nb_film  pfilm  dfilm\n",
       "id                                                           \n",
       "78      1907-05-26          John Wayne      172   1926   1976\n",
       "1230    1884-03-16       Harrison Ford       86   1915   1932\n",
       "230     1946-07-06  Sylvester Stallone       73   1969   2019\n",
       "125     1930-08-25        Sean Connery       73   1954   2012\n",
       "158     1956-07-09           Tom Hanks       69   1980   2020\n",
       "...            ...                 ...      ...    ...    ...\n",
       "621     1951-01-01        Kurt Russell       10   1989   2019\n",
       "807911  1932-01-01          Dean Smith       10   1959   1986\n",
       "604508  1915-01-01   Boyd 'Red' Morgan       10   1960   1971\n",
       "609     1959-01-01         Ving Rhames       10   1989   2017\n",
       "625555  1927-01-01        Lloyd Nelson       10   1978   1990\n",
       "\n",
       "[166 rows x 5 columns]"
      ]
     },
     "execution_count": 10,
     "metadata": {},
     "output_type": "execute_result"
    }
   ],
   "source": [
    "dfStatsByStars = pd.DataFrame(data_flatten)\n",
    "dfStatsByStars.set_index('id',inplace=True)\n",
    "dfStatsByStars"
   ]
  },
  {
   "cell_type": "markdown",
   "metadata": {},
   "source": [
    "## <a id=\"graph\"> 2) Graphiques</a>  "
   ]
  },
  {
   "cell_type": "markdown",
   "metadata": {},
   "source": [
    "#### Repartition par annéée des films et naissances de star"
   ]
  },
  {
   "cell_type": "code",
   "execution_count": 14,
   "metadata": {},
   "outputs": [],
   "source": [
    "dfStatMovie=pd.read_json('http://localhost:8000/movies/count_by_year')\n",
    "dfStatMovie.columns=['year', 'counts']\n",
    "dfStatMovieGraph = dfStatMovie[dfStatMovie.counts > 15].set_index('year')"
   ]
  },
  {
   "cell_type": "code",
   "execution_count": 15,
   "metadata": {},
   "outputs": [
    {
     "data": {
      "text/plain": [
       "<AxesSubplot:xlabel='year'>"
      ]
     },
     "execution_count": 15,
     "metadata": {},
     "output_type": "execute_result"
    },
    {
     "data": {
      "image/png": "[encoded data removed]",
      "text/plain": [
       "<Figure size 432x288 with 1 Axes>"
      ]
     },
     "metadata": {
      "needs_background": "light"
     },
     "output_type": "display_data"
    }
   ],
   "source": [
    "dfStatMovieGraph.plot()"
   ]
  },
  {
   "cell_type": "code",
   "execution_count": 37,
   "metadata": {},
   "outputs": [],
   "source": [
    "dfStars = pd.read_json('http://localhost:8000/stars', convert_dates = ['birthdate'])\n",
    "dfStars.set_index('id',inplace=True)\n",
    "dfStars['year'] = dfStars.birthdate.dt.year"
   ]
  },
  {
   "cell_type": "code",
   "execution_count": 41,
   "metadata": {},
   "outputs": [
    {
     "data": {
      "text/html": [
       "<div>\n",
       "<style scoped>\n",
       "    .dataframe tbody tr th:only-of-type {\n",
       "        vertical-align: middle;\n",
       "    }\n",
       "\n",
       "    .dataframe tbody tr th {\n",
       "        vertical-align: top;\n",
       "    }\n",
       "\n",
       "    .dataframe thead th {\n",
       "        text-align: right;\n",
       "    }\n",
       "</style>\n",
       "<table border=\"1\" class=\"dataframe\">\n",
       "  <thead>\n",
       "    <tr style=\"text-align: right;\">\n",
       "      <th></th>\n",
       "      <th>name</th>\n",
       "    </tr>\n",
       "    <tr>\n",
       "      <th>year</th>\n",
       "      <th></th>\n",
       "    </tr>\n",
       "  </thead>\n",
       "  <tbody>\n",
       "    <tr>\n",
       "      <th>1846</th>\n",
       "      <td>1</td>\n",
       "    </tr>\n",
       "    <tr>\n",
       "      <th>1848</th>\n",
       "      <td>2</td>\n",
       "    </tr>\n",
       "    <tr>\n",
       "      <th>1849</th>\n",
       "      <td>1</td>\n",
       "    </tr>\n",
       "    <tr>\n",
       "      <th>1850</th>\n",
       "      <td>1</td>\n",
       "    </tr>\n",
       "    <tr>\n",
       "      <th>1851</th>\n",
       "      <td>3</td>\n",
       "    </tr>\n",
       "    <tr>\n",
       "      <th>...</th>\n",
       "      <td>...</td>\n",
       "    </tr>\n",
       "    <tr>\n",
       "      <th>2004</th>\n",
       "      <td>1</td>\n",
       "    </tr>\n",
       "    <tr>\n",
       "      <th>2005</th>\n",
       "      <td>2</td>\n",
       "    </tr>\n",
       "    <tr>\n",
       "      <th>2006</th>\n",
       "      <td>1</td>\n",
       "    </tr>\n",
       "    <tr>\n",
       "      <th>2008</th>\n",
       "      <td>2</td>\n",
       "    </tr>\n",
       "    <tr>\n",
       "      <th>2009</th>\n",
       "      <td>2</td>\n",
       "    </tr>\n",
       "  </tbody>\n",
       "</table>\n",
       "<p>161 rows × 1 columns</p>\n",
       "</div>"
      ],
      "text/plain": [
       "      name\n",
       "year      \n",
       "1846     1\n",
       "1848     2\n",
       "1849     1\n",
       "1850     1\n",
       "1851     3\n",
       "...    ...\n",
       "2004     1\n",
       "2005     2\n",
       "2006     1\n",
       "2008     2\n",
       "2009     2\n",
       "\n",
       "[161 rows x 1 columns]"
      ]
     },
     "execution_count": 41,
     "metadata": {},
     "output_type": "execute_result"
    }
   ],
   "source": [
    "dfCountNameByY = dfStars[['year','name']].groupby(['year']).count()\n",
    "dfCountNameByY"
   ]
  },
  {
   "cell_type": "code",
   "execution_count": 100,
   "metadata": {},
   "outputs": [
    {
     "data": {
      "text/plain": [
       "Text(0, 0.5, 'Nombre de stars nées')"
      ]
     },
     "execution_count": 100,
     "metadata": {},
     "output_type": "execute_result"
    },
    {
     "data": {
      "image/png": "[encoded data removed]",
      "text/plain": [
       "<Figure size 432x288 with 1 Axes>"
      ]
     },
     "metadata": {
      "needs_background": "light"
     },
     "output_type": "display_data"
    }
   ],
   "source": [
    "plt.plot(dfCountNameByY.index, dfCountNameByY.name)\n",
    "plt.ylabel('Nombre de stars nées')"
   ]
  },
  {
   "cell_type": "markdown",
   "metadata": {},
   "source": [
    "#### Diagramme barres sur la carrière du top 10 acteurs : 1 graphe nombre, 1 graphe année min/max"
   ]
  },
  {
   "cell_type": "code",
   "execution_count": 46,
   "metadata": {},
   "outputs": [
    {
     "data": {
      "text/html": [
       "<div>\n",
       "<style scoped>\n",
       "    .dataframe tbody tr th:only-of-type {\n",
       "        vertical-align: middle;\n",
       "    }\n",
       "\n",
       "    .dataframe tbody tr th {\n",
       "        vertical-align: top;\n",
       "    }\n",
       "\n",
       "    .dataframe thead th {\n",
       "        text-align: right;\n",
       "    }\n",
       "</style>\n",
       "<table border=\"1\" class=\"dataframe\">\n",
       "  <thead>\n",
       "    <tr style=\"text-align: right;\">\n",
       "      <th></th>\n",
       "      <th>birthdate</th>\n",
       "      <th>name</th>\n",
       "      <th>nb_film</th>\n",
       "      <th>pfilm</th>\n",
       "      <th>dfilm</th>\n",
       "    </tr>\n",
       "    <tr>\n",
       "      <th>id</th>\n",
       "      <th></th>\n",
       "      <th></th>\n",
       "      <th></th>\n",
       "      <th></th>\n",
       "      <th></th>\n",
       "    </tr>\n",
       "  </thead>\n",
       "  <tbody>\n",
       "    <tr>\n",
       "      <th>78</th>\n",
       "      <td>1907-05-26</td>\n",
       "      <td>John Wayne</td>\n",
       "      <td>172</td>\n",
       "      <td>1926</td>\n",
       "      <td>1976</td>\n",
       "    </tr>\n",
       "    <tr>\n",
       "      <th>1230</th>\n",
       "      <td>1884-03-16</td>\n",
       "      <td>Harrison Ford</td>\n",
       "      <td>86</td>\n",
       "      <td>1915</td>\n",
       "      <td>1932</td>\n",
       "    </tr>\n",
       "    <tr>\n",
       "      <th>230</th>\n",
       "      <td>1946-07-06</td>\n",
       "      <td>Sylvester Stallone</td>\n",
       "      <td>73</td>\n",
       "      <td>1969</td>\n",
       "      <td>2019</td>\n",
       "    </tr>\n",
       "    <tr>\n",
       "      <th>125</th>\n",
       "      <td>1930-08-25</td>\n",
       "      <td>Sean Connery</td>\n",
       "      <td>73</td>\n",
       "      <td>1954</td>\n",
       "      <td>2012</td>\n",
       "    </tr>\n",
       "    <tr>\n",
       "      <th>158</th>\n",
       "      <td>1956-07-09</td>\n",
       "      <td>Tom Hanks</td>\n",
       "      <td>69</td>\n",
       "      <td>1980</td>\n",
       "      <td>2020</td>\n",
       "    </tr>\n",
       "    <tr>\n",
       "      <th>241</th>\n",
       "      <td>1960-10-18</td>\n",
       "      <td>Jean-Claude Van Damme</td>\n",
       "      <td>66</td>\n",
       "      <td>1979</td>\n",
       "      <td>2019</td>\n",
       "    </tr>\n",
       "    <tr>\n",
       "      <th>142</th>\n",
       "      <td>1930-05-31</td>\n",
       "      <td>Clint Eastwood</td>\n",
       "      <td>63</td>\n",
       "      <td>1955</td>\n",
       "      <td>2018</td>\n",
       "    </tr>\n",
       "    <tr>\n",
       "      <th>148</th>\n",
       "      <td>1942-07-13</td>\n",
       "      <td>Harrison Ford</td>\n",
       "      <td>63</td>\n",
       "      <td>1966</td>\n",
       "      <td>2020</td>\n",
       "    </tr>\n",
       "    <tr>\n",
       "      <th>216</th>\n",
       "      <td>1947-07-30</td>\n",
       "      <td>Arnold Schwarzenegger</td>\n",
       "      <td>56</td>\n",
       "      <td>1970</td>\n",
       "      <td>2019</td>\n",
       "    </tr>\n",
       "    <tr>\n",
       "      <th>226</th>\n",
       "      <td>1968-09-25</td>\n",
       "      <td>Will Smith</td>\n",
       "      <td>50</td>\n",
       "      <td>1988</td>\n",
       "      <td>2020</td>\n",
       "    </tr>\n",
       "  </tbody>\n",
       "</table>\n",
       "</div>"
      ],
      "text/plain": [
       "       birthdate                   name  nb_film  pfilm  dfilm\n",
       "id                                                            \n",
       "78    1907-05-26             John Wayne      172   1926   1976\n",
       "1230  1884-03-16          Harrison Ford       86   1915   1932\n",
       "230   1946-07-06     Sylvester Stallone       73   1969   2019\n",
       "125   1930-08-25           Sean Connery       73   1954   2012\n",
       "158   1956-07-09              Tom Hanks       69   1980   2020\n",
       "241   1960-10-18  Jean-Claude Van Damme       66   1979   2019\n",
       "142   1930-05-31         Clint Eastwood       63   1955   2018\n",
       "148   1942-07-13          Harrison Ford       63   1966   2020\n",
       "216   1947-07-30  Arnold Schwarzenegger       56   1970   2019\n",
       "226   1968-09-25             Will Smith       50   1988   2020"
      ]
     },
     "execution_count": 46,
     "metadata": {},
     "output_type": "execute_result"
    }
   ],
   "source": [
    "dfTop10 = dfStatsByStars.head(10)\n",
    "dfTop10"
   ]
  },
  {
   "cell_type": "code",
   "execution_count": 49,
   "metadata": {},
   "outputs": [],
   "source": [
    "dfTop10ByNb = dfTop10[['name','nb_film']]\n",
    "dfTop10ByNb.set_index('name',inplace=True)"
   ]
  },
  {
   "cell_type": "code",
   "execution_count": 98,
   "metadata": {},
   "outputs": [
    {
     "data": {
      "text/plain": [
       "([0, 1, 2, 3, 4, 5, 6, 7, 8],\n",
       " [Text(0, 0, ''),\n",
       "  Text(0, 0, ''),\n",
       "  Text(0, 0, ''),\n",
       "  Text(0, 0, ''),\n",
       "  Text(0, 0, ''),\n",
       "  Text(0, 0, ''),\n",
       "  Text(0, 0, ''),\n",
       "  Text(0, 0, ''),\n",
       "  Text(0, 0, '')])"
      ]
     },
     "execution_count": 98,
     "metadata": {},
     "output_type": "execute_result"
    },
    {
     "data": {
      "image/png": "[encoded data removed]",
      "text/plain": [
       "<Figure size 432x288 with 1 Axes>"
      ]
     },
     "metadata": {
      "needs_background": "light"
     },
     "output_type": "display_data"
    }
   ],
   "source": [
    "plt.bar(dfTop10ByNb.index, dfTop10ByNb.nb_film)\n",
    "plt.ylabel('Nombre de film')\n",
    "plt.xticks(rotation = 90)"
   ]
  },
  {
   "cell_type": "code",
   "execution_count": 82,
   "metadata": {},
   "outputs": [
    {
     "data": {
      "text/plain": [
       "['John Wayne',\n",
       " 'Harrison Ford',\n",
       " 'Sylvester Stallone',\n",
       " 'Sean Connery',\n",
       " 'Tom Hanks',\n",
       " 'Jean-Claude Van Damme',\n",
       " 'Clint Eastwood',\n",
       " 'Harrison Ford',\n",
       " 'Arnold Schwarzenegger',\n",
       " 'Will Smith']"
      ]
     },
     "execution_count": 82,
     "metadata": {},
     "output_type": "execute_result"
    }
   ],
   "source": [
    "dfTop10ByNb.index.to_list()"
   ]
  },
  {
   "cell_type": "code",
   "execution_count": 97,
   "metadata": {},
   "outputs": [
    {
     "data": {
      "image/png": "[encoded data removed]",
      "text/plain": [
       "<Figure size 432x288 with 1 Axes>"
      ]
     },
     "metadata": {
      "needs_background": "light"
     },
     "output_type": "display_data"
    }
   ],
   "source": [
    "fig = plt.figure()\n",
    "N = 10\n",
    "w = 0.35\n",
    "\n",
    "x = np.arange(N)\n",
    "ax = fig.add_subplot(111)\n",
    "\n",
    "\n",
    "rect1 = ax.bar(x, dfTop10.pfilm, w,  color ='b')\n",
    "rect2 = ax.bar(x + w, dfTop10.dfilm, w,  color ='g')\n",
    "\n",
    "plt.ylim(min(dfTop10.pfilm)-20, max(dfTop10.dfilm)+20)\n",
    "ax.set_xticks(x + w/2)\n",
    "ax.set_xticklabels(dfTop10ByNb.index.to_list())\n",
    "plt.xticks(rotation = 90)\n",
    "plt.legend(['Date premier film', 'Date dernier film'])\n",
    "plt.show()"
   ]
  },
  {
   "cell_type": "code",
   "execution_count": null,
   "metadata": {},
   "outputs": [],
   "source": []
  }
 ],
 "metadata": {
  "kernelspec": {
   "display_name": "Python 3",
   "language": "python",
   "name": "python3"
  },
  "language_info": {
   "codemirror_mode": {
    "name": "ipython",
    "version": 3
   },
   "file_extension": ".py",
   "mimetype": "text/x-python",
   "name": "python",
   "nbconvert_exporter": "python",
   "pygments_lexer": "ipython3",
   "version": "3.8.5"
  }
 },
 "nbformat": 4,
 "nbformat_minor": 4
}
